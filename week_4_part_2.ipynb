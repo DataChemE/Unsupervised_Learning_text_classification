{
 "cells": [
  {
   "cell_type": "markdown",
   "metadata": {},
   "source": [
    "GitHub: https://github.com/DataChemE/Unsupervised_Learning_text_classification\n",
    "\n",
    "# Matrix Factorization Techniques for Movie Ratings\n",
    "\n",
    "## Introduction\n",
    "\n",
    "In this notebook, we explore the application of matrix factorization techniques on movie rating data to predict missing ratings. We'll be using the `scikit-learn` library to implement non-negative matrix factorization and compare its performance against simple baseline or similarity based methods used previously in the week 3 assignment.\n",
    "\n",
    "Matrix factorization is a class of collaborative filtering algorithms used in recommendation systems. The idea is to decompose the user-item interaction matrix into the product of two lower dimensional matrices. The user item interaction matrix is typically sparse, with missing entries corresponding to unobserved ratings. The goal is to fill in these missing entries by learning the latent factors that best explain the observed ratings."
   ]
  },
  {
   "cell_type": "code",
   "execution_count": 1,
   "metadata": {},
   "outputs": [],
   "source": [
    "import numpy as np\n",
    "import pandas as pd\n",
    "from sklearn.decomposition import NMF\n",
    "from scipy.sparse import coo_matrix\n",
    "from sklearn.metrics import mean_squared_error\n",
    "from collections import namedtuple"
   ]
  },
  {
   "cell_type": "code",
   "execution_count": 3,
   "metadata": {},
   "outputs": [],
   "source": [
    "# Load movie ratings data\n",
    "MV_users = pd.read_csv('movie_data/users.csv')\n",
    "MV_movies = pd.read_csv('movie_data/movies.csv')\n",
    "train = pd.read_csv('movie_data/train.csv')\n",
    "test = pd.read_csv('movie_data/test.csv')"
   ]
  },
  {
   "cell_type": "code",
   "execution_count": 4,
   "metadata": {},
   "outputs": [],
   "source": [
    "# Create a sparse matrix of the data for NMF\n",
    "Data = namedtuple('Data', ['users','movies','train','test'])\n",
    "data = Data(MV_users, MV_movies, train, test)"
   ]
  },
  {
   "cell_type": "code",
   "execution_count": 11,
   "metadata": {},
   "outputs": [],
   "source": [
    "class RecSys():\n",
    "    def __init__(self, data):\n",
    "        self.data = data\n",
    "        self.allusers = list(self.data.users['uID'])\n",
    "        self.allmovies = list(self.data.movies['mID'])\n",
    "        self.genres = list(self.data.movies.columns.drop(['mID', 'title', 'year']))\n",
    "        self.mid2idx = dict(zip(self.data.movies.mID, list(range(len(self.data.movies)))))\n",
    "        self.uid2idx = dict(zip(self.data.users.uID, list(range(len(self.data.users)))))\n",
    "        self.Mr = self.rating_matrix()  \n",
    "        self.nmf_model = None\n",
    "        self.user_features = None\n",
    "        self.item_features = None\n",
    "\n",
    "    def rating_matrix(self):\n",
    "        \"\"\" Convert the rating matrix to a numpy array of shape (#allusers, #allmovies) \"\"\"\n",
    "        ind_movie = [self.mid2idx[x] for x in self.data.train.mID]\n",
    "        ind_user = [self.uid2idx[x] for x in self.data.train.uID]\n",
    "        rating_train = list(self.data.train.rating)\n",
    "        return np.array(coo_matrix((rating_train, (ind_user, ind_movie)), shape=(len(self.allusers), len(self.allmovies))).toarray())\n",
    "\n",
    "    def fit_nmf(self, n_components=15):\n",
    "        \"\"\" Fit NMF model to the ratings matrix \"\"\"\n",
    "        self.nmf_model = NMF(n_components=n_components, init='random', random_state=10, max_iter=1000)\n",
    "        self.user_features = self.nmf_model.fit_transform(self.Mr)\n",
    "        self.item_features = self.nmf_model.components_\n",
    "\n",
    "    def predict_nmf(self):\n",
    "        \"\"\" Predict ratings using the factorized matrices from NMF \"\"\"\n",
    "        if not self.nmf_model:  \n",
    "            print(\"NMF model is not fitted, call fit_nmf() first.\")\n",
    "            return\n",
    "        predicted_ratings = np.dot(self.user_features, self.item_features)\n",
    "        return predicted_ratings\n",
    "\n",
    "    def calculate_rmse(self):\n",
    "        \"\"\" Calculate the RMSE for the predicted ratings against the actual test set ratings \"\"\"\n",
    "        y_pred = self.predict_nmf()\n",
    "        test_indices = (self.data.test.uID.map(self.uid2idx), self.data.test.mID.map(self.mid2idx))\n",
    "        y_true = self.data.test.rating\n",
    "        y_pred = y_pred[test_indices]\n",
    "        return np.sqrt(mean_squared_error(y_true, y_pred))\n",
    "    "
   ]
  },
  {
   "cell_type": "code",
   "execution_count": 10,
   "metadata": {},
   "outputs": [
    {
     "name": "stdout",
     "output_type": "stream",
     "text": [
      "RMSE for NMF-based predictions: 3.729573183874525\n"
     ]
    }
   ],
   "source": [
    "# Creating Sample test data\n",
    "np.random.seed(42)\n",
    "sample_train = train[:30000]\n",
    "sample_test = test[:30000]\n",
    "\n",
    "\n",
    "sample_MV_users = MV_users[(MV_users.uID.isin(sample_train.uID)) | (MV_users.uID.isin(sample_test.uID))]\n",
    "sample_MV_movies = MV_movies[(MV_movies.mID.isin(sample_train.mID)) | (MV_movies.mID.isin(sample_test.mID))]\n",
    "\n",
    "\n",
    "sample_data = Data(sample_MV_users, sample_MV_movies, sample_train, sample_test)\n",
    "\n",
    "\n",
    "rec_sys = RecSys(sample_data)\n",
    "rec_sys.fit_nmf(n_components=20)  \n",
    "predicted_ratings = rec_sys.predict_nmf()\n",
    "rmse = rec_sys.calculate_rmse()\n",
    "print(\"RMSE for NMF-based predictions:\", rmse)"
   ]
  },
  {
   "cell_type": "markdown",
   "metadata": {},
   "source": [
    "# Below are the results from the previous week's assignment using cosine similarity in the collaborative method. \n",
    "\n",
    "As we can see the RMSE for the same sample data created, the RMSE for NMF above is almost 4 times high as the similarity based method. \n",
    "\n",
    "Cosine Similarity RMSE: 1.0263081874204125"
   ]
  },
  {
   "cell_type": "markdown",
   "metadata": {},
   "source": [
    "![Results from week 3 cossine similarirty results](./similarity_comparisons.png)"
   ]
  },
  {
   "cell_type": "markdown",
   "metadata": {},
   "source": [
    "NMF and cosine similarity differ in their RMSE performance due to a few key reasons:\n",
    "\n",
    "- Handling Sparse Data: NMF struggles with the sparse matrices common in user item data, as it tries to approximate all entries, which can lead to higher errors. In contrast, cosine similarity focuses only on overlapping entries between vectors, making it more effective for sparse datasets.\n",
    "\n",
    "- Sensitivity to Data Scale: NMF's performance is sensitive to the scale of the input data, which can affect the approximation error. On the other hand, cosine similarity is scale invariant since it measures the angle between vectors, making it robust to variations in user rating scales.\n",
    "\n",
    "- Model Complexity and Overfitting: NMF has a higher risk of overfitting due to its complexity, especially when there are many items relative to users. Cosine similarity, being simpler and more interpretable, is less prone to overfitting."
   ]
  }
 ],
 "metadata": {
  "kernelspec": {
   "display_name": "env_torch2",
   "language": "python",
   "name": "python3"
  },
  "language_info": {
   "codemirror_mode": {
    "name": "ipython",
    "version": 3
   },
   "file_extension": ".py",
   "mimetype": "text/x-python",
   "name": "python",
   "nbconvert_exporter": "python",
   "pygments_lexer": "ipython3",
   "version": "3.11.8"
  }
 },
 "nbformat": 4,
 "nbformat_minor": 2
}
